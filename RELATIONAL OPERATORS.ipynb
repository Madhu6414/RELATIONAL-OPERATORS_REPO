{
 "cells": [
  {
   "cell_type": "code",
   "execution_count": 1,
   "id": "a98d3cd2",
   "metadata": {},
   "outputs": [
    {
     "name": "stdout",
     "output_type": "stream",
     "text": [
      "False\n"
     ]
    }
   ],
   "source": [
    "x=5\n",
    "y=7\n",
    "print(x==y)"
   ]
  },
  {
   "cell_type": "code",
   "execution_count": 2,
   "id": "def9d6d3",
   "metadata": {},
   "outputs": [
    {
     "name": "stdout",
     "output_type": "stream",
     "text": [
      "True\n"
     ]
    }
   ],
   "source": [
    "x=5\n",
    "y=7\n",
    "print(x!=y)"
   ]
  },
  {
   "cell_type": "code",
   "execution_count": 3,
   "id": "88c02848",
   "metadata": {},
   "outputs": [
    {
     "name": "stdout",
     "output_type": "stream",
     "text": [
      "True\n"
     ]
    }
   ],
   "source": [
    "x=5\n",
    "y=7\n",
    "print(x<y)"
   ]
  },
  {
   "cell_type": "code",
   "execution_count": 4,
   "id": "e9236983",
   "metadata": {},
   "outputs": [
    {
     "name": "stdout",
     "output_type": "stream",
     "text": [
      "False\n"
     ]
    }
   ],
   "source": [
    "x=5\n",
    "y=7\n",
    "print(x>y)"
   ]
  },
  {
   "cell_type": "code",
   "execution_count": 5,
   "id": "9e34cd2d",
   "metadata": {},
   "outputs": [
    {
     "name": "stdout",
     "output_type": "stream",
     "text": [
      "False\n"
     ]
    }
   ],
   "source": [
    "x=5\n",
    "y=7\n",
    "print(x>=y)"
   ]
  },
  {
   "cell_type": "code",
   "execution_count": 6,
   "id": "aedc3008",
   "metadata": {},
   "outputs": [
    {
     "name": "stdout",
     "output_type": "stream",
     "text": [
      "True\n"
     ]
    }
   ],
   "source": [
    "x=5\n",
    "y=7\n",
    "print(x<=y)"
   ]
  }
 ],
 "metadata": {
  "kernelspec": {
   "display_name": "Python 3 (ipykernel)",
   "language": "python",
   "name": "python3"
  },
  "language_info": {
   "codemirror_mode": {
    "name": "ipython",
    "version": 3
   },
   "file_extension": ".py",
   "mimetype": "text/x-python",
   "name": "python",
   "nbconvert_exporter": "python",
   "pygments_lexer": "ipython3",
   "version": "3.11.5"
  }
 },
 "nbformat": 4,
 "nbformat_minor": 5
}
